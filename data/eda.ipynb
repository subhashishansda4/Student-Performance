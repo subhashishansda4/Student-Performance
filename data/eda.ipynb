{
 "cells": [
  {
   "cell_type": "code",
   "execution_count": 5,
   "metadata": {},
   "outputs": [
    {
     "data": {
      "text/plain": [
       "\"\\nThis project understands how the student's performance (test scores) is affected by other variables such as Gender, Ethnicity, Parental level of Education, Lunch and Test Preparation course\\n\""
      ]
     },
     "execution_count": 5,
     "metadata": {},
     "output_type": "execute_result"
    }
   ],
   "source": [
    "# Problem Statement\n",
    "'''\n",
    "This project understands how the student's performance (test scores) is affected by other variables such as Gender, Ethnicity, Parental level of Education, Lunch and Test Preparation course\n",
    "'''"
   ]
  },
  {
   "cell_type": "code",
   "execution_count": 7,
   "metadata": {},
   "outputs": [],
   "source": [
    "import numpy as np\n",
    "import pandas as pd\n",
    "import matplotlib.pyplot as plt\n",
    "%matplotlib inline\n",
    "import warnings\n",
    "warnings.filterwarnings('ignore')"
   ]
  },
  {
   "cell_type": "code",
   "execution_count": 8,
   "metadata": {},
   "outputs": [],
   "source": [
    "df = pd.read_csv('stud.csv')"
   ]
  },
  {
   "cell_type": "code",
   "execution_count": 11,
   "metadata": {},
   "outputs": [
    {
     "data": {
      "text/html": [
       "<div>\n",
       "<style scoped>\n",
       "    .dataframe tbody tr th:only-of-type {\n",
       "        vertical-align: middle;\n",
       "    }\n",
       "\n",
       "    .dataframe tbody tr th {\n",
       "        vertical-align: top;\n",
       "    }\n",
       "\n",
       "    .dataframe thead th {\n",
       "        text-align: right;\n",
       "    }\n",
       "</style>\n",
       "<table border=\"1\" class=\"dataframe\">\n",
       "  <thead>\n",
       "    <tr style=\"text-align: right;\">\n",
       "      <th></th>\n",
       "      <th>gender</th>\n",
       "      <th>race_ethnicity</th>\n",
       "      <th>parental_level_of_education</th>\n",
       "      <th>lunch</th>\n",
       "      <th>test_preparation_course</th>\n",
       "      <th>math_score</th>\n",
       "      <th>reading_score</th>\n",
       "      <th>writing_score</th>\n",
       "    </tr>\n",
       "  </thead>\n",
       "  <tbody>\n",
       "    <tr>\n",
       "      <th>0</th>\n",
       "      <td>female</td>\n",
       "      <td>group B</td>\n",
       "      <td>bachelor's degree</td>\n",
       "      <td>standard</td>\n",
       "      <td>none</td>\n",
       "      <td>72</td>\n",
       "      <td>72</td>\n",
       "      <td>74</td>\n",
       "    </tr>\n",
       "    <tr>\n",
       "      <th>1</th>\n",
       "      <td>female</td>\n",
       "      <td>group C</td>\n",
       "      <td>some college</td>\n",
       "      <td>standard</td>\n",
       "      <td>completed</td>\n",
       "      <td>69</td>\n",
       "      <td>90</td>\n",
       "      <td>88</td>\n",
       "    </tr>\n",
       "    <tr>\n",
       "      <th>2</th>\n",
       "      <td>female</td>\n",
       "      <td>group B</td>\n",
       "      <td>master's degree</td>\n",
       "      <td>standard</td>\n",
       "      <td>none</td>\n",
       "      <td>90</td>\n",
       "      <td>95</td>\n",
       "      <td>93</td>\n",
       "    </tr>\n",
       "    <tr>\n",
       "      <th>3</th>\n",
       "      <td>male</td>\n",
       "      <td>group A</td>\n",
       "      <td>associate's degree</td>\n",
       "      <td>free/reduced</td>\n",
       "      <td>none</td>\n",
       "      <td>47</td>\n",
       "      <td>57</td>\n",
       "      <td>44</td>\n",
       "    </tr>\n",
       "    <tr>\n",
       "      <th>4</th>\n",
       "      <td>male</td>\n",
       "      <td>group C</td>\n",
       "      <td>some college</td>\n",
       "      <td>standard</td>\n",
       "      <td>none</td>\n",
       "      <td>76</td>\n",
       "      <td>78</td>\n",
       "      <td>75</td>\n",
       "    </tr>\n",
       "  </tbody>\n",
       "</table>\n",
       "</div>"
      ],
      "text/plain": [
       "   gender race_ethnicity parental_level_of_education         lunch  \\\n",
       "0  female        group B           bachelor's degree      standard   \n",
       "1  female        group C                some college      standard   \n",
       "2  female        group B             master's degree      standard   \n",
       "3    male        group A          associate's degree  free/reduced   \n",
       "4    male        group C                some college      standard   \n",
       "\n",
       "  test_preparation_course  math_score  reading_score  writing_score  \n",
       "0                    none          72             72             74  \n",
       "1               completed          69             90             88  \n",
       "2                    none          90             95             93  \n",
       "3                    none          47             57             44  \n",
       "4                    none          76             78             75  "
      ]
     },
     "execution_count": 11,
     "metadata": {},
     "output_type": "execute_result"
    }
   ],
   "source": [
    "df.head()"
   ]
  },
  {
   "cell_type": "code",
   "execution_count": 12,
   "metadata": {},
   "outputs": [
    {
     "data": {
      "text/plain": [
       "(1000, 8)"
      ]
     },
     "execution_count": 12,
     "metadata": {},
     "output_type": "execute_result"
    }
   ],
   "source": [
    "df.shape"
   ]
  },
  {
   "cell_type": "code",
   "execution_count": 15,
   "metadata": {},
   "outputs": [
    {
     "data": {
      "text/plain": [
       "'\\ncheck missing values\\ncheck duplicates\\ncheck data type\\ncheck the number of unique values of each column\\ncheck statistic of data set\\ncheck various categories present in the different categorical column\\n'"
      ]
     },
     "execution_count": 15,
     "metadata": {},
     "output_type": "execute_result"
    }
   ],
   "source": [
    "# Dataset Information\n",
    "'''\n",
    "gender - male/female\n",
    "race_ethnicity - group A,B,C,D,E\n",
    "parental_level_of_education - bachelor's degree, some college, master's degree, associate's degree, high school\n",
    "lunch - standard, free/reduced\n",
    "test_preparation_course - completed or none\n",
    "math_score\n",
    "reading_score\n",
    "writing_score\n",
    "'''\n",
    "\n",
    "# Data Checks to Perform\n",
    "'''\n",
    "check missing values\n",
    "check duplicates\n",
    "check data type\n",
    "check the number of unique values of each column\n",
    "check statistic of data set\n",
    "check various categories present in the different categorical column\n",
    "'''"
   ]
  },
  {
   "cell_type": "code",
   "execution_count": 17,
   "metadata": {},
   "outputs": [
    {
     "name": "stdout",
     "output_type": "stream",
     "text": [
      "gender                         0\n",
      "race_ethnicity                 0\n",
      "parental_level_of_education    0\n",
      "lunch                          0\n",
      "test_preparation_course        0\n",
      "math_score                     0\n",
      "reading_score                  0\n",
      "writing_score                  0\n",
      "dtype: int64\n"
     ]
    }
   ],
   "source": [
    "print(df.isna().sum())"
   ]
  },
  {
   "cell_type": "code",
   "execution_count": 19,
   "metadata": {},
   "outputs": [
    {
     "name": "stdout",
     "output_type": "stream",
     "text": [
      "0\n"
     ]
    }
   ],
   "source": [
    "print(df.duplicated().sum())"
   ]
  },
  {
   "cell_type": "code",
   "execution_count": 21,
   "metadata": {},
   "outputs": [
    {
     "name": "stdout",
     "output_type": "stream",
     "text": [
      "<class 'pandas.core.frame.DataFrame'>\n",
      "RangeIndex: 1000 entries, 0 to 999\n",
      "Data columns (total 8 columns):\n",
      " #   Column                       Non-Null Count  Dtype \n",
      "---  ------                       --------------  ----- \n",
      " 0   gender                       1000 non-null   object\n",
      " 1   race_ethnicity               1000 non-null   object\n",
      " 2   parental_level_of_education  1000 non-null   object\n",
      " 3   lunch                        1000 non-null   object\n",
      " 4   test_preparation_course      1000 non-null   object\n",
      " 5   math_score                   1000 non-null   int64 \n",
      " 6   reading_score                1000 non-null   int64 \n",
      " 7   writing_score                1000 non-null   int64 \n",
      "dtypes: int64(3), object(5)\n",
      "memory usage: 62.6+ KB\n",
      "None\n"
     ]
    }
   ],
   "source": [
    "# check null and dtypes\n",
    "print(df.info())"
   ]
  },
  {
   "cell_type": "code",
   "execution_count": 24,
   "metadata": {},
   "outputs": [
    {
     "name": "stdout",
     "output_type": "stream",
     "text": [
      "gender                          2\n",
      "race_ethnicity                  5\n",
      "parental_level_of_education     6\n",
      "lunch                           2\n",
      "test_preparation_course         2\n",
      "math_score                     81\n",
      "reading_score                  72\n",
      "writing_score                  77\n",
      "dtype: int64\n"
     ]
    }
   ],
   "source": [
    "print(df.nunique())"
   ]
  },
  {
   "cell_type": "code",
   "execution_count": 26,
   "metadata": {},
   "outputs": [
    {
     "name": "stdout",
     "output_type": "stream",
     "text": [
      "       math_score  reading_score  writing_score\n",
      "count  1000.00000    1000.000000    1000.000000\n",
      "mean     66.08900      69.169000      68.054000\n",
      "std      15.16308      14.600192      15.195657\n",
      "min       0.00000      17.000000      10.000000\n",
      "25%      57.00000      59.000000      57.750000\n",
      "50%      66.00000      70.000000      69.000000\n",
      "75%      77.00000      79.000000      79.000000\n",
      "max     100.00000     100.000000     100.000000\n"
     ]
    }
   ],
   "source": [
    "print(df.describe())"
   ]
  },
  {
   "cell_type": "code",
   "execution_count": 28,
   "metadata": {},
   "outputs": [
    {
     "name": "stdout",
     "output_type": "stream",
     "text": [
      "categories in gender variable:  ['female' 'male']\n",
      "categories i race_ethnicity variable:  ['group B' 'group C' 'group A' 'group D' 'group E']\n",
      "categories in parental_level_of_education variable:  [\"bachelor's degree\" 'some college' \"master's degree\" \"associate's degree\"\n",
      " 'high school' 'some high school']\n",
      "categories in lunch variable:  ['standard' 'free/reduced']\n",
      "categories in test_preparation_course variable:  ['none' 'completed']\n"
     ]
    }
   ],
   "source": [
    "print('categories in gender variable: ', end=' ')\n",
    "print(df['gender'].unique())\n",
    "\n",
    "print('categories i race_ethnicity variable: ', end=' ')\n",
    "print(df['race_ethnicity'].unique())\n",
    "\n",
    "print('categories in parental_level_of_education variable: ', end=' ')\n",
    "print(df['parental_level_of_education'].unique())\n",
    "\n",
    "print('categories in lunch variable: ', end=' ')\n",
    "print(df['lunch'].unique())\n",
    "\n",
    "print('categories in test_preparation_course variable: ', end=' ')\n",
    "print(df['test_preparation_course'].unique())"
   ]
  },
  {
   "cell_type": "code",
   "execution_count": 33,
   "metadata": {},
   "outputs": [
    {
     "name": "stdout",
     "output_type": "stream",
     "text": [
      "we have 3 numerical features : ['math_score', 'reading_score', 'writing_score']\n",
      "\n",
      "we have 5 categorical features : ['gender', 'race_ethnicity', 'parental_level_of_education', 'lunch', 'test_preparation_course']\n"
     ]
    }
   ],
   "source": [
    "# define numerical and categorical columns\n",
    "numeric_features = [feature for feature in df.columns if df[feature].dtype != 'O']\n",
    "categorical_features = [feature for feature in df.columns if df[feature].dtype == 'O']\n",
    "\n",
    "print('we have {} numerical features : {}'.format(len(numeric_features), numeric_features))\n",
    "print('\\nwe have {} categorical features : {}'.format(len(categorical_features), categorical_features))"
   ]
  },
  {
   "cell_type": "code",
   "execution_count": 35,
   "metadata": {},
   "outputs": [],
   "source": [
    "# adding total columns for total_score & average\n",
    "df['total_score'] = df['math_score'] + df['reading_score'] + df['writing_score']\n",
    "df['average'] = df['total_score']/3"
   ]
  },
  {
   "cell_type": "code",
   "execution_count": 37,
   "metadata": {},
   "outputs": [
    {
     "name": "stdout",
     "output_type": "stream",
     "text": [
      "number of students with full marks in maths: 7\n",
      "number of students with full marks in writing: 14\n",
      "number of students with full marks in reading: 17\n"
     ]
    }
   ],
   "source": [
    "reading_full = df[df['reading_score'] == 100]['average'].count()\n",
    "writing_full = df[df['writing_score'] == 100]['average'].count()\n",
    "math_full = df[df['math_score'] == 100]['average'].count()\n",
    "\n",
    "print(f'number of students with full marks in maths: {math_full}')\n",
    "print(f'number of students with full marks in writing: {writing_full}')\n",
    "print(f'number of students with full marks in reading: {reading_full}')"
   ]
  },
  {
   "cell_type": "code",
   "execution_count": 41,
   "metadata": {},
   "outputs": [
    {
     "name": "stdout",
     "output_type": "stream",
     "text": [
      "number of students with less than 20 marks in maths: 4\n",
      "number of students with less than 20 marks in writing: 3\n",
      "number of students with less than 20 marks in reading: 1\n"
     ]
    }
   ],
   "source": [
    "reading_less_20 = df[df['reading_score'] <= 20]['average'].count()\n",
    "writing_less_20 = df[df['writing_score'] <= 20]['average'].count()\n",
    "math_less_20 = df[df['math_score'] <= 20]['average'].count()\n",
    "\n",
    "print(f'number of students with less than 20 marks in maths: {math_less_20}')\n",
    "print(f'number of students with less than 20 marks in writing: {writing_less_20}')\n",
    "print(f'number of students with less than 20 marks in reading: {reading_less_20}')"
   ]
  },
  {
   "cell_type": "code",
   "execution_count": 43,
   "metadata": {},
   "outputs": [
    {
     "data": {
      "text/plain": [
       "'\\nhistogram\\nkernel distribution function\\n'"
      ]
     },
     "execution_count": 43,
     "metadata": {},
     "output_type": "execute_result"
    }
   ],
   "source": [
    "# Exploring Data to visualize average score distribution\n",
    "'''\n",
    "histogram\n",
    "kernel distribution function\n",
    "'''"
   ]
  },
  {
   "cell_type": "code",
   "execution_count": null,
   "metadata": {},
   "outputs": [],
   "source": []
  }
 ],
 "metadata": {
  "kernelspec": {
   "display_name": "Python 3",
   "language": "python",
   "name": "python3"
  },
  "language_info": {
   "codemirror_mode": {
    "name": "ipython",
    "version": 3
   },
   "file_extension": ".py",
   "mimetype": "text/x-python",
   "name": "python",
   "nbconvert_exporter": "python",
   "pygments_lexer": "ipython3",
   "version": "3.12.2"
  }
 },
 "nbformat": 4,
 "nbformat_minor": 2
}
